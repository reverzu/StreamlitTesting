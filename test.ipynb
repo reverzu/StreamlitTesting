{
 "cells": [
  {
   "cell_type": "code",
   "execution_count": 5,
   "metadata": {},
   "outputs": [
    {
     "name": "stdout",
     "output_type": "stream",
     "text": [
      "[[0.00347722 0.05834156 0.         ... 0.         0.         0.        ]\n",
      " [0.0033114  0.05718637 0.         ... 0.         0.         0.        ]\n",
      " [0.00307015 0.05787343 0.         ... 0.         0.         0.        ]\n",
      " ...\n",
      " [0.00224373 0.03888017 0.         ... 0.         0.         0.        ]\n",
      " [0.00199518 0.03886437 0.         ... 0.         0.         0.        ]\n",
      " [0.00194761 0.04056031 0.         ... 0.         0.         0.        ]]\n",
      "[[0.00256467 0.04738927 0.         ... 0.         0.         0.        ]\n",
      " [0.00168824 0.04650265 0.         ... 0.         0.         0.        ]\n",
      " [0.00227532 0.04609197 0.         ... 0.         0.         0.        ]\n",
      " ...\n",
      " [0.00135514 0.04117209 0.         ... 0.         0.         0.        ]\n",
      " [0.00122833 0.04017955 0.         ... 0.         0.         0.        ]\n",
      " [0.00106916 0.0420087  0.         ... 0.         0.         0.        ]]\n",
      "[[0.00267735 0.04691607 0.         ... 0.         0.         0.        ]\n",
      " [0.00260004 0.04408896 0.         ... 0.         0.         0.        ]\n",
      " [0.00306177 0.04487151 0.         ... 0.         0.         0.        ]\n",
      " ...\n",
      " [0.00113398 0.04612184 0.         ... 0.         0.         0.        ]\n",
      " [0.0014393  0.04756987 0.         ... 0.         0.         0.        ]\n",
      " [0.00171435 0.04687685 0.         ... 0.         0.         0.        ]]\n"
     ]
    }
   ],
   "source": [
    "import numpy as np\n",
    "print(np.load(r'./Models/HAPPY.npy'))\n",
    "print(np.load(r'./Models/SAD.npy'))\n",
    "print(np.load(r'./Models/NEUTRAL.npy'))"
   ]
  },
  {
   "cell_type": "code",
   "execution_count": 11,
   "metadata": {},
   "outputs": [
    {
     "data": {
      "text/plain": [
       "['Happy.npy', 'Neutral.npy', 'Sad.npy']"
      ]
     },
     "execution_count": 11,
     "metadata": {},
     "output_type": "execute_result"
    }
   ],
   "source": [
    "import os\n",
    "os.listdir(path='./Models')"
   ]
  }
 ],
 "metadata": {
  "kernelspec": {
   "display_name": "Python 3",
   "language": "python",
   "name": "python3"
  },
  "language_info": {
   "codemirror_mode": {
    "name": "ipython",
    "version": 3
   },
   "file_extension": ".py",
   "mimetype": "text/x-python",
   "name": "python",
   "nbconvert_exporter": "python",
   "pygments_lexer": "ipython3",
   "version": "3.9.0"
  }
 },
 "nbformat": 4,
 "nbformat_minor": 2
}
